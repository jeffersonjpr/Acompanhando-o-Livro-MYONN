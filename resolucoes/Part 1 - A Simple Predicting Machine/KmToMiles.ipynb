{
 "cells": [
  {
   "cell_type": "code",
   "execution_count": 92,
   "metadata": {},
   "outputs": [
    {
     "name": "stdout",
     "output_type": "stream",
     "text": [
      "Initial constant:  0.3784921579863556\n"
     ]
    }
   ],
   "source": [
    "# https://machinelearningmastery.com/how-to-generate-random-numbers-in-python/\n",
    "from random import random\n",
    "\n",
    "#Random number give to constant\n",
    "c = random()\n",
    "print(\"Initial constant: \", c)"
   ]
  },
  {
   "cell_type": "code",
   "execution_count": 93,
   "metadata": {},
   "outputs": [],
   "source": [
    "#Test sample :)\n",
    "inputTest1 = 42.00\n",
    "outPutTest1 = 26.0976"
   ]
  },
  {
   "cell_type": "code",
   "execution_count": 94,
   "metadata": {},
   "outputs": [],
   "source": [
    "#Function to calculate Km to Miles using the constant (\"unknow\")\n",
    "def kmtomiles (km, c):\n",
    "    return km * c"
   ]
  },
  {
   "cell_type": "code",
   "execution_count": 95,
   "metadata": {
    "scrolled": true
   },
   "outputs": [
    {
     "name": "stdout",
     "output_type": "stream",
     "text": [
      "i 0 :  0.6845200389235475\n",
      "i 1 :  0.6049527898798777\n",
      "i 2 :  0.6256402746312318\n",
      "i 3 :  0.6202615285958797\n",
      "i 4 :  0.6216600025650713\n",
      "i 5 :  0.6212963993330815\n",
      "i 6 :  0.6213909361733988\n",
      "i 7 :  0.6213663565949162\n",
      "i 8 :  0.6213727472853218\n"
     ]
    }
   ],
   "source": [
    "#Adjusting the constant\n",
    "for i in range(10000):\n",
    "    guess = kmtomiles(inputTest1, c)\n",
    "    \n",
    "    error = outPutTest1 - guess\n",
    "\n",
    "    if(abs(error) < 0.0001):\n",
    "        break\n",
    "    \n",
    "    c = c + (0.3 * error)/10\n",
    "    print(\"i\",i, \": \",c)"
   ]
  },
  {
   "cell_type": "code",
   "execution_count": 96,
   "metadata": {},
   "outputs": [
    {
     "name": "stdout",
     "output_type": "stream",
     "text": [
      "9\n",
      "0.6213727472853218\n"
     ]
    }
   ],
   "source": [
    "print(i)\n",
    "print(c)"
   ]
  },
  {
   "cell_type": "code",
   "execution_count": 97,
   "metadata": {},
   "outputs": [
    {
     "name": "stdout",
     "output_type": "stream",
     "text": [
      "Test input: 42.0 \n",
      "Test output: 26.0976 \n",
      "Constant: 0.6213727472853218  \n",
      "Result: 26.097655385983515\n"
     ]
    }
   ],
   "source": [
    "print(\"Test input: {} \\nTest output: {} \\nConstant: {}  \\nResult: {}\".format(inputTest1,outPutTest1, c, kmtomiles(inputTest1,c)))"
   ]
  }
 ],
 "metadata": {
  "kernelspec": {
   "display_name": "Python 3",
   "language": "python",
   "name": "python3"
  },
  "language_info": {
   "codemirror_mode": {
    "name": "ipython",
    "version": 3
   },
   "file_extension": ".py",
   "mimetype": "text/x-python",
   "name": "python",
   "nbconvert_exporter": "python",
   "pygments_lexer": "ipython3",
   "version": "3.8.5"
  }
 },
 "nbformat": 4,
 "nbformat_minor": 4
}
