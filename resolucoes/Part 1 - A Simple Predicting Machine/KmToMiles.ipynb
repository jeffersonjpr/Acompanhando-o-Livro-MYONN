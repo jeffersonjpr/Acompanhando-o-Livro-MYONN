{
 "cells": [
  {
   "cell_type": "code",
   "execution_count": 1,
   "metadata": {},
   "outputs": [
    {
     "name": "stdout",
     "output_type": "stream",
     "text": [
      "Initial constant:  0.27197377254182675\n"
     ]
    }
   ],
   "source": [
    "# https://machinelearningmastery.com/how-to-generate-random-numbers-in-python/\n",
    "#This is a Predictor\n",
    "from random import random\n",
    "\n",
    "#Random number give to constant\n",
    "c = random()\n",
    "print(\"Initial constant: \", c)"
   ]
  },
  {
   "cell_type": "code",
   "execution_count": 2,
   "metadata": {},
   "outputs": [],
   "source": [
    "#Test sample :)\n",
    "inputTest1 = 42.00\n",
    "outPutTest1 = 26.0976"
   ]
  },
  {
   "cell_type": "code",
   "execution_count": 3,
   "metadata": {},
   "outputs": [],
   "source": [
    "#Function to calculate Km to Miles using the constant (\"unknow\")\n",
    "def kmtomiles (km, c):\n",
    "    return km * c"
   ]
  },
  {
   "cell_type": "code",
   "execution_count": 4,
   "metadata": {
    "scrolled": true
   },
   "outputs": [
    {
     "name": "stdout",
     "output_type": "stream",
     "text": [
      "i 0 :  0.712214819139125\n",
      "i 1 :  0.5977521470238275\n",
      "i 2 :  0.6275124417738048\n",
      "i 3 :  0.6197747651388107\n",
      "i 4 :  0.6217865610639093\n",
      "i 5 :  0.6212634941233836\n",
      "i 6 :  0.6213994915279202\n",
      "i 7 :  0.6213641322027408\n",
      "i 8 :  0.6213733256272874\n"
     ]
    }
   ],
   "source": [
    "#Adjusting the constant\n",
    "for i in range(10000):\n",
    "    guess = kmtomiles(inputTest1, c)\n",
    "    \n",
    "    error = outPutTest1 - guess\n",
    "\n",
    "    if(abs(error) < 0.0001):\n",
    "        break\n",
    "    \n",
    "    c = c + (0.3 * error)/10\n",
    "    print(\"i\",i, \": \",c) #these are the predictions"
   ]
  },
  {
   "cell_type": "code",
   "execution_count": 5,
   "metadata": {},
   "outputs": [
    {
     "name": "stdout",
     "output_type": "stream",
     "text": [
      "9\n",
      "0.6213733256272874\n"
     ]
    }
   ],
   "source": [
    "print(i)\n",
    "print(c)"
   ]
  },
  {
   "cell_type": "code",
   "execution_count": 6,
   "metadata": {},
   "outputs": [
    {
     "name": "stdout",
     "output_type": "stream",
     "text": [
      "Test input: 42.0 \n",
      "Test output: 26.0976 \n",
      "Constant: 0.6213733256272874  \n",
      "Result: 26.097679676346072\n"
     ]
    }
   ],
   "source": [
    "print(\"Test input: {} \\nTest output: {} \\nConstant: {}  \\nResult: {}\".format(inputTest1,outPutTest1, c, kmtomiles(inputTest1,c)))"
   ]
  }
 ],
 "metadata": {
  "kernelspec": {
   "display_name": "Python 3",
   "language": "python",
   "name": "python3"
  },
  "language_info": {
   "codemirror_mode": {
    "name": "ipython",
    "version": 3
   },
   "file_extension": ".py",
   "mimetype": "text/x-python",
   "name": "python",
   "nbconvert_exporter": "python",
   "pygments_lexer": "ipython3",
   "version": "3.8.5"
  }
 },
 "nbformat": 4,
 "nbformat_minor": 4
}
