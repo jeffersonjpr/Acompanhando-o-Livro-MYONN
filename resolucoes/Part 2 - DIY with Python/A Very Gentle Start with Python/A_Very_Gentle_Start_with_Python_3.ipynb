{
 "cells": [
  {
   "cell_type": "code",
   "execution_count": 1,
   "metadata": {},
   "outputs": [],
   "source": [
    "#objects\n",
    "class Vaca:\n",
    "    #Vacas mugem\n",
    "    def muge(self):\n",
    "        print(\"MUUU !\")\n",
    "        pass\n",
    "    pass"
   ]
  },
  {
   "cell_type": "code",
   "execution_count": 2,
   "metadata": {},
   "outputs": [
    {
     "name": "stdout",
     "output_type": "stream",
     "text": [
      "MUUU !\n"
     ]
    }
   ],
   "source": [
    "branquinha = Vaca()\n",
    "branquinha.muge()"
   ]
  },
  {
   "cell_type": "code",
   "execution_count": 3,
   "metadata": {},
   "outputs": [],
   "source": [
    "class Gato:\n",
    "    # inicializando\n",
    "    def __init__(self, nome, peso):\n",
    "        self.nome = nome;\n",
    "        self.peso = peso;\n",
    "        pass\n",
    "    \n",
    "    # get estado\n",
    "    def estado(self):\n",
    "        print(\"Nome do gat@ \", self.nome)\n",
    "        print(\"Peso do gat@ \", self.peso)\n",
    "        pass\n",
    "    \n",
    "    #define o peso\n",
    "    def setPeso(self, peso):\n",
    "        self.peso = peso;\n",
    "        pass\n",
    "    \n",
    "    # miado\n",
    "    def miau(self):\n",
    "        print(\"MIAUUUUUUUUUUUAUAU !\");\n",
    "        pass\n",
    "    pass"
   ]
  },
  {
   "cell_type": "code",
   "execution_count": 4,
   "metadata": {},
   "outputs": [
    {
     "name": "stdout",
     "output_type": "stream",
     "text": [
      "Nome do gat@  Fred\n",
      "Peso do gat@  15.5\n"
     ]
    }
   ],
   "source": [
    "gato1 = Gato(\"Fred\", 15.5)\n",
    "gato1.estado()"
   ]
  },
  {
   "cell_type": "code",
   "execution_count": 5,
   "metadata": {},
   "outputs": [
    {
     "name": "stdout",
     "output_type": "stream",
     "text": [
      "Nome do gat@  Fred\n",
      "Peso do gat@  16.2\n"
     ]
    }
   ],
   "source": [
    "gato1.setPeso(16.2)\n",
    "gato1.estado()"
   ]
  },
  {
   "cell_type": "code",
   "execution_count": null,
   "metadata": {},
   "outputs": [],
   "source": []
  }
 ],
 "metadata": {
  "kernelspec": {
   "display_name": "Python 3",
   "language": "python",
   "name": "python3"
  },
  "language_info": {
   "codemirror_mode": {
    "name": "ipython",
    "version": 3
   },
   "file_extension": ".py",
   "mimetype": "text/x-python",
   "name": "python",
   "nbconvert_exporter": "python",
   "pygments_lexer": "ipython3",
   "version": "3.8.5"
  }
 },
 "nbformat": 4,
 "nbformat_minor": 4
}
