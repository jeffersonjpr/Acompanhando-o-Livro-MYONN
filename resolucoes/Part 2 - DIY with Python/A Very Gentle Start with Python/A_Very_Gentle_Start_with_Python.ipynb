{
 "cells": [
  {
   "cell_type": "code",
   "execution_count": 4,
   "metadata": {},
   "outputs": [
    {
     "data": {
      "text/plain": [
       "42"
      ]
     },
     "execution_count": 4,
     "metadata": {},
     "output_type": "execute_result"
    }
   ],
   "source": [
    "21 * 2"
   ]
  },
  {
   "cell_type": "code",
   "execution_count": 5,
   "metadata": {},
   "outputs": [
    {
     "name": "stdout",
     "output_type": "stream",
     "text": [
      "Ola mundo !\n"
     ]
    }
   ],
   "source": [
    "print (\"Ola mundo !\")"
   ]
  },
  {
   "cell_type": "code",
   "execution_count": 6,
   "metadata": {},
   "outputs": [
    {
     "name": "stdout",
     "output_type": "stream",
     "text": [
      "11\n",
      "20\n",
      "22\n"
     ]
    },
    {
     "ename": "NameError",
     "evalue": "name 'z' is not defined",
     "output_type": "error",
     "traceback": [
      "\u001b[1;31m---------------------------------------------------------------------------\u001b[0m",
      "\u001b[1;31mNameError\u001b[0m                                 Traceback (most recent call last)",
      "\u001b[1;32m<ipython-input-6-f7e48a544a69>\u001b[0m in \u001b[0;36m<module>\u001b[1;34m\u001b[0m\n\u001b[0;32m      6\u001b[0m \u001b[0mprint\u001b[0m \u001b[1;33m(\u001b[0m\u001b[0my\u001b[0m\u001b[1;33m)\u001b[0m\u001b[1;33m\u001b[0m\u001b[1;33m\u001b[0m\u001b[0m\n\u001b[0;32m      7\u001b[0m \u001b[1;33m\u001b[0m\u001b[0m\n\u001b[1;32m----> 8\u001b[1;33m \u001b[0mprint\u001b[0m\u001b[1;33m(\u001b[0m\u001b[0mz\u001b[0m\u001b[1;33m)\u001b[0m\u001b[1;33m\u001b[0m\u001b[1;33m\u001b[0m\u001b[0m\n\u001b[0m",
      "\u001b[1;31mNameError\u001b[0m: name 'z' is not defined"
     ]
    }
   ],
   "source": [
    "x = 11\n",
    "print(x)\n",
    "print(x + 9)\n",
    "\n",
    "y = x + 11\n",
    "print (y)\n",
    "\n",
    "print(z)"
   ]
  },
  {
   "cell_type": "code",
   "execution_count": 1,
   "metadata": {},
   "outputs": [
    {
     "data": {
      "text/plain": [
       "[0, 1, 2, 3, 4]"
      ]
     },
     "execution_count": 1,
     "metadata": {},
     "output_type": "execute_result"
    }
   ],
   "source": [
    "list ( range (5) )"
   ]
  },
  {
   "cell_type": "code",
   "execution_count": 3,
   "metadata": {},
   "outputs": [
    {
     "name": "stdout",
     "output_type": "stream",
     "text": [
      "1\n",
      "2\n",
      "3\n",
      "4\n",
      "5\n",
      "fim\n"
     ]
    }
   ],
   "source": [
    "for i in range(5):\n",
    "    print(i + 1)\n",
    "    pass\n",
    "print (\"fim\")"
   ]
  },
  {
   "cell_type": "code",
   "execution_count": 8,
   "metadata": {},
   "outputs": [
    {
     "name": "stdout",
     "output_type": "stream",
     "text": [
      "0  *  5  =  0\n",
      "1  *  5  =  5\n",
      "2  *  5  =  10\n",
      "3  *  5  =  15\n",
      "4  *  5  =  20\n",
      "5  *  5  =  25\n",
      "6  *  5  =  30\n",
      "7  *  5  =  35\n",
      "8  *  5  =  40\n",
      "9  *  5  =  45\n",
      "10  *  5  =  50\n",
      "11  *  5  =  55\n",
      "12  *  5  =  60\n",
      "13  *  5  =  65\n",
      "14  *  5  =  70\n",
      "15  *  5  =  75\n",
      "16  *  5  =  80\n",
      "17  *  5  =  85\n",
      "18  *  5  =  90\n",
      "19  *  5  =  95\n",
      "20  *  5  =  100\n",
      "21  *  5  =  105\n",
      "22  *  5  =  110\n",
      "23  *  5  =  115\n",
      "24  *  5  =  120\n",
      "25  *  5  =  125\n",
      "26  *  5  =  130\n",
      "27  *  5  =  135\n",
      "28  *  5  =  140\n",
      "29  *  5  =  145\n",
      "30  *  5  =  150\n",
      "31  *  5  =  155\n",
      "32  *  5  =  160\n",
      "33  *  5  =  165\n",
      "34  *  5  =  170\n",
      "35  *  5  =  175\n",
      "36  *  5  =  180\n",
      "37  *  5  =  185\n",
      "38  *  5  =  190\n",
      "39  *  5  =  195\n",
      "40  *  5  =  200\n",
      "41  *  5  =  205\n",
      "42  *  5  =  210\n",
      "43  *  5  =  215\n",
      "44  *  5  =  220\n",
      "45  *  5  =  225\n",
      "46  *  5  =  230\n",
      "47  *  5  =  235\n",
      "48  *  5  =  240\n",
      "49  *  5  =  245\n",
      "50  *  5  =  250\n",
      "51  *  5  =  255\n",
      "52  *  5  =  260\n",
      "53  *  5  =  265\n",
      "54  *  5  =  270\n",
      "55  *  5  =  275\n",
      "56  *  5  =  280\n",
      "57  *  5  =  285\n",
      "58  *  5  =  290\n",
      "59  *  5  =  295\n",
      "60  *  5  =  300\n",
      "61  *  5  =  305\n",
      "62  *  5  =  310\n",
      "63  *  5  =  315\n",
      "64  *  5  =  320\n",
      "65  *  5  =  325\n",
      "66  *  5  =  330\n",
      "67  *  5  =  335\n",
      "68  *  5  =  340\n",
      "69  *  5  =  345\n",
      "70  *  5  =  350\n",
      "71  *  5  =  355\n",
      "72  *  5  =  360\n",
      "73  *  5  =  365\n",
      "74  *  5  =  370\n",
      "75  *  5  =  375\n",
      "76  *  5  =  380\n",
      "77  *  5  =  385\n",
      "78  *  5  =  390\n",
      "79  *  5  =  395\n",
      "80  *  5  =  400\n",
      "81  *  5  =  405\n",
      "82  *  5  =  410\n",
      "83  *  5  =  415\n",
      "84  *  5  =  420\n",
      "85  *  5  =  425\n",
      "86  *  5  =  430\n",
      "87  *  5  =  435\n",
      "88  *  5  =  440\n",
      "89  *  5  =  445\n",
      "90  *  5  =  450\n",
      "91  *  5  =  455\n",
      "92  *  5  =  460\n",
      "93  *  5  =  465\n",
      "94  *  5  =  470\n",
      "95  *  5  =  475\n",
      "96  *  5  =  480\n",
      "97  *  5  =  485\n",
      "98  *  5  =  490\n",
      "99  *  5  =  495\n",
      "100  *  5  =  500\n",
      "101  *  5  =  505\n",
      "102  *  5  =  510\n",
      "103  *  5  =  515\n",
      "104  *  5  =  520\n",
      "105  *  5  =  525\n",
      "106  *  5  =  530\n",
      "107  *  5  =  535\n",
      "108  *  5  =  540\n",
      "109  *  5  =  545\n",
      "110  *  5  =  550\n",
      "Tabuada do 5\n"
     ]
    }
   ],
   "source": [
    "for i in range(111):\n",
    "    print(i, \" * \", 5, \" = \", i*5)\n",
    "    pass\n",
    "print(\"Tabuada do 5\")"
   ]
  },
  {
   "cell_type": "code",
   "execution_count": 9,
   "metadata": {
    "scrolled": true
   },
   "outputs": [
    {
     "name": "stdout",
     "output_type": "stream",
     "text": [
      "1764\n"
     ]
    }
   ],
   "source": [
    "#A linha a seguir imprime 42 ao quadrado\n",
    "print(42**2)]"
   ]
  },
  {
   "cell_type": "code",
   "execution_count": 13,
   "metadata": {},
   "outputs": [],
   "source": [
    "#Functions\n",
    "#Função que recebe dois números inteiros como entrada\n",
    "#E retorna o quadrado da soma\n",
    "def quadSoma(x, y):\n",
    "    print(\"Primeiro número: \", x)\n",
    "    print(\"Segundo número: \", y)\n",
    "    z = (x + y)**2\n",
    "    print(\"Quadrado da soma de x e y: \", z)\n",
    "    return z"
   ]
  },
  {
   "cell_type": "code",
   "execution_count": 16,
   "metadata": {},
   "outputs": [
    {
     "name": "stdout",
     "output_type": "stream",
     "text": [
      "Primeiro número:  2\n",
      "Segundo número:  2\n",
      "Quadrado da soma de x e y:  16\n"
     ]
    },
    {
     "data": {
      "text/plain": [
       "16"
      ]
     },
     "execution_count": 16,
     "metadata": {},
     "output_type": "execute_result"
    }
   ],
   "source": [
    "quadSoma(2,2)"
   ]
  },
  {
   "cell_type": "code",
   "execution_count": 18,
   "metadata": {
    "scrolled": true
   },
   "outputs": [
    {
     "name": "stdout",
     "output_type": "stream",
     "text": [
      "Primeiro número:  3\n",
      "Segundo número:  5\n",
      "Quadrado da soma de x e y:  64\n"
     ]
    },
    {
     "data": {
      "text/plain": [
       "64"
      ]
     },
     "execution_count": 18,
     "metadata": {},
     "output_type": "execute_result"
    }
   ],
   "source": [
    "quadSoma(3,5)"
   ]
  }
 ],
 "metadata": {
  "kernelspec": {
   "display_name": "Python 3",
   "language": "python",
   "name": "python3"
  },
  "language_info": {
   "codemirror_mode": {
    "name": "ipython",
    "version": 3
   },
   "file_extension": ".py",
   "mimetype": "text/x-python",
   "name": "python",
   "nbconvert_exporter": "python",
   "pygments_lexer": "ipython3",
   "version": "3.8.5"
  }
 },
 "nbformat": 4,
 "nbformat_minor": 4
}
