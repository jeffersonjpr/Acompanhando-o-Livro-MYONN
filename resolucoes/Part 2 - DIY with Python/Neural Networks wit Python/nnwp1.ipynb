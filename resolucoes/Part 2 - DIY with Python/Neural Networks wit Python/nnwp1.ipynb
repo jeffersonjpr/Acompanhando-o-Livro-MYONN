{
 "cells": [
  {
   "cell_type": "code",
   "execution_count": 2,
   "metadata": {},
   "outputs": [],
   "source": [
    "#definição da classe Rede Neural\n",
    "class NeuralNet:\n",
    "    \n",
    "    #inicializar a rede\n",
    "    def __init__(self, inputN, hiddenN, outputN, learningR):\n",
    "        \n",
    "        #Configurar o numero de nós em cada camada\n",
    "        self.inodes = inputN\n",
    "        self.hnodes = hiddenN\n",
    "        self.onodes = outputN\n",
    "        \n",
    "        #taxa de aprendizado\n",
    "        self.lr = learningR\n",
    "        \n",
    "        pass\n",
    "    \n",
    "    #treinar a rede\n",
    "    def train():\n",
    "        pass\n",
    "    \n",
    "    #resposta depois de treinada\n",
    "    def query():\n",
    "        pass"
   ]
  },
  {
   "cell_type": "code",
   "execution_count": 3,
   "metadata": {},
   "outputs": [],
   "source": [
    "n = NeuralNet(3,6,3, 0.5)"
   ]
  }
 ],
 "metadata": {
  "kernelspec": {
   "display_name": "Python 3",
   "language": "python",
   "name": "python3"
  },
  "language_info": {
   "codemirror_mode": {
    "name": "ipython",
    "version": 3
   },
   "file_extension": ".py",
   "mimetype": "text/x-python",
   "name": "python",
   "nbconvert_exporter": "python",
   "pygments_lexer": "ipython3",
   "version": "3.8.5"
  }
 },
 "nbformat": 4,
 "nbformat_minor": 4
}
