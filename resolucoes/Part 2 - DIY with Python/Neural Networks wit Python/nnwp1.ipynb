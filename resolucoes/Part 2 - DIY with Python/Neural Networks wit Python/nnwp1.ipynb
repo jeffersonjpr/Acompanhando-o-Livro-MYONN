{
 "cells": [
  {
   "cell_type": "code",
   "execution_count": 9,
   "metadata": {},
   "outputs": [],
   "source": [
    "import numpy\n",
    "import scipy.special"
   ]
  },
  {
   "cell_type": "code",
   "execution_count": 1,
   "metadata": {},
   "outputs": [],
   "source": [
    "#definição da classe Rede Neural\n",
    "class NeuralNet:\n",
    "    \n",
    "    #inicializar a rede\n",
    "    def __init__(self, inputN, hiddenN, outputN, learningR):\n",
    "        \n",
    "        #Configurar o numero de nós em cada camada\n",
    "        self.inodes = inputN\n",
    "        self.hnodes = hiddenN\n",
    "        self.onodes = outputN\n",
    "        \n",
    "        #taxa de aprendizado\n",
    "        self.lr = learningR\n",
    "        \n",
    "        #WEIGHTS\n",
    "        #link weigth wih (weights input --> hidden) and who (weights hidden --> output)\n",
    "        #self.wih = (numpy.random.rand(self.hnodes, self.inodes) - 0.5)\n",
    "        #self.who = (numpy.random.rand(self.onodes, self.hnodes) - 0.5)\n",
    "        \n",
    "        #Better weights\n",
    "        #Random weights from a normal probability distribution centred on zero\n",
    "        #standard deviation = 1/srqt(incoming links)\n",
    "        \n",
    "        #numpy.random.normal(mean, spread, shape)\n",
    "        self.wih = numpy.random.normal (0.0, pow(self.inodes, -0.5), (self.hnodes, self.inodes))\n",
    "        self.who = numpy.random.normal (0.0, pow(self.hnodes, -0.5), (self.onodes, self.hnodes))\n",
    "        \n",
    "        #ACTIVATION FUNCTION\n",
    "        self.activation_function = lambda x : scipy.special.expit(x)\n",
    "        \n",
    "        pass\n",
    "    \n",
    "    #treinar a rede\n",
    "    def train():\n",
    "        pass\n",
    "    \n",
    "    #resposta depois de treinada\n",
    "    def query(self, inputs):\n",
    "        \n",
    "        #INPUT --> HIDDEN\n",
    "        #Hidden input calculation\n",
    "        hidden_inputs = numpy.dot(self.wih, inputs)\n",
    "        \n",
    "        #Hidden outputs (activation function)\n",
    "        hidden_outputs = self.activation_function(hidden_inputs)\n",
    "        \n",
    "        #HIDDEN --> OUTPUT\n",
    "        #signals into the final layer (output layer)\n",
    "        output_inputs = numpy.dot(self.who, hidden_outputs)\n",
    "        #signals out the final layer (output layer)\n",
    "        output_outputs = self.activation_function(output_inputs)\n",
    "        \n",
    "        pass"
   ]
  },
  {
   "cell_type": "code",
   "execution_count": 11,
   "metadata": {},
   "outputs": [
    {
     "data": {
      "text/plain": [
       "array([[ 0.04160486, -0.31750095, -0.37844659],\n",
       "       [ 0.32879829, -0.26249127,  0.39237566],\n",
       "       [-0.15414184,  0.34108896,  0.40483748]])"
      ]
     },
     "execution_count": 11,
     "metadata": {},
     "output_type": "execute_result"
    }
   ],
   "source": [
    "numpy.random.rand(3,3) -0.5"
   ]
  },
  {
   "cell_type": "code",
   "execution_count": null,
   "metadata": {},
   "outputs": [],
   "source": []
  }
 ],
 "metadata": {
  "kernelspec": {
   "display_name": "Python 3",
   "language": "python",
   "name": "python3"
  },
  "language_info": {
   "codemirror_mode": {
    "name": "ipython",
    "version": 3
   },
   "file_extension": ".py",
   "mimetype": "text/x-python",
   "name": "python",
   "nbconvert_exporter": "python",
   "pygments_lexer": "ipython3",
   "version": "3.8.5"
  }
 },
 "nbformat": 4,
 "nbformat_minor": 4
}
